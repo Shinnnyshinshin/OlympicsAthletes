{
 "cells": [
  {
   "cell_type": "markdown",
   "metadata": {},
   "source": [
    "# Initial Analysis of Olympic Data"
   ]
  },
  {
   "cell_type": "markdown",
   "metadata": {},
   "source": [
    "## Questions I hope to answer : \n",
    "The question that I want to hope to be able to answer is the mininmum amount of information you need to predict the sport that they are in. Is it just height for basketball? \n",
    "\n",
    "* how do you want to structure this? \n",
    "* is it going to be like. Basketball over everything else? that's too easy because that. \n",
    "* if you give it you height and weight.. and nationality? \n",
    "* what basketball should it be able to do? \n",
    "\n",
    "\n",
    "## More Predictive modelling: \n",
    "* what is the minimum number of thigns we need? \n",
    "* what are the most different ones? \n",
    "\n",
    "## Longer-term goals \n",
    "\n",
    "* see if the data can be turned into a webapp where the data can be more fully explored. \n",
    "\n"
   ]
  },
  {
   "cell_type": "code",
   "execution_count": 264,
   "metadata": {},
   "outputs": [],
   "source": [
    "import numpy as np # linear algebra\n",
    "import pandas as pd # data processing, CSV file I/O (e.g. pd.read_csv)\n",
    "\n",
    "import seaborn as sns\n",
    "import matplotlib.pyplot as plt\n",
    "%matplotlib inline\n",
    "\n",
    "import os\n"
   ]
  },
  {
   "cell_type": "code",
   "execution_count": 265,
   "metadata": {},
   "outputs": [
    {
     "name": "stdout",
     "output_type": "stream",
     "text": [
      "Athlete data: \n",
      "Rows: 271116\n",
      "Cols: 15\n",
      "Index(['ID', 'Name', 'Sex', 'Age', 'Height', 'Weight', 'Team', 'NOC', 'Games',\n",
      "       'Year', 'Season', 'City', 'Sport', 'Event', 'Medal'],\n",
      "      dtype='object')\n",
      "\n",
      "NOC data: \n",
      "Rows: 230\n",
      "Cols: 3\n",
      "Index(['NOC', 'region', 'notes'], dtype='object')\n"
     ]
    }
   ],
   "source": [
    "athlete = pd.read_csv('input/athlete_events.csv')\n",
    "noc = pd.read_csv('input/noc_regions.csv')\n",
    "\n",
    "print('Athlete data: \\nRows: {}\\nCols: {}'.format(athlete.shape[0],athlete.shape[1]))\n",
    "print(athlete.columns)\n",
    "\n",
    "print('\\nNOC data: \\nRows: {}\\nCols: {}'.format(noc.shape[0],noc.shape[1]))\n",
    "print(noc.columns)"
   ]
  },
  {
   "cell_type": "code",
   "execution_count": 266,
   "metadata": {},
   "outputs": [
    {
     "data": {
      "text/html": [
       "<div>\n",
       "<style scoped>\n",
       "    .dataframe tbody tr th:only-of-type {\n",
       "        vertical-align: middle;\n",
       "    }\n",
       "\n",
       "    .dataframe tbody tr th {\n",
       "        vertical-align: top;\n",
       "    }\n",
       "\n",
       "    .dataframe thead th {\n",
       "        text-align: right;\n",
       "    }\n",
       "</style>\n",
       "<table border=\"1\" class=\"dataframe\">\n",
       "  <thead>\n",
       "    <tr style=\"text-align: right;\">\n",
       "      <th></th>\n",
       "      <th>ID</th>\n",
       "      <th>Name</th>\n",
       "      <th>Sex</th>\n",
       "      <th>Age</th>\n",
       "      <th>Height</th>\n",
       "      <th>Weight</th>\n",
       "      <th>Team</th>\n",
       "      <th>NOC</th>\n",
       "      <th>Games</th>\n",
       "      <th>Year</th>\n",
       "      <th>Season</th>\n",
       "      <th>City</th>\n",
       "      <th>Sport</th>\n",
       "      <th>Event</th>\n",
       "      <th>Medal</th>\n",
       "    </tr>\n",
       "  </thead>\n",
       "  <tbody>\n",
       "    <tr>\n",
       "      <th>0</th>\n",
       "      <td>1</td>\n",
       "      <td>A Dijiang</td>\n",
       "      <td>M</td>\n",
       "      <td>24.0</td>\n",
       "      <td>180.0</td>\n",
       "      <td>80.0</td>\n",
       "      <td>China</td>\n",
       "      <td>CHN</td>\n",
       "      <td>1992 Summer</td>\n",
       "      <td>1992</td>\n",
       "      <td>Summer</td>\n",
       "      <td>Barcelona</td>\n",
       "      <td>Basketball</td>\n",
       "      <td>Basketball Men's Basketball</td>\n",
       "      <td>NaN</td>\n",
       "    </tr>\n",
       "    <tr>\n",
       "      <th>1</th>\n",
       "      <td>2</td>\n",
       "      <td>A Lamusi</td>\n",
       "      <td>M</td>\n",
       "      <td>23.0</td>\n",
       "      <td>170.0</td>\n",
       "      <td>60.0</td>\n",
       "      <td>China</td>\n",
       "      <td>CHN</td>\n",
       "      <td>2012 Summer</td>\n",
       "      <td>2012</td>\n",
       "      <td>Summer</td>\n",
       "      <td>London</td>\n",
       "      <td>Judo</td>\n",
       "      <td>Judo Men's Extra-Lightweight</td>\n",
       "      <td>NaN</td>\n",
       "    </tr>\n",
       "    <tr>\n",
       "      <th>2</th>\n",
       "      <td>3</td>\n",
       "      <td>Gunnar Nielsen Aaby</td>\n",
       "      <td>M</td>\n",
       "      <td>24.0</td>\n",
       "      <td>NaN</td>\n",
       "      <td>NaN</td>\n",
       "      <td>Denmark</td>\n",
       "      <td>DEN</td>\n",
       "      <td>1920 Summer</td>\n",
       "      <td>1920</td>\n",
       "      <td>Summer</td>\n",
       "      <td>Antwerpen</td>\n",
       "      <td>Football</td>\n",
       "      <td>Football Men's Football</td>\n",
       "      <td>NaN</td>\n",
       "    </tr>\n",
       "    <tr>\n",
       "      <th>3</th>\n",
       "      <td>4</td>\n",
       "      <td>Edgar Lindenau Aabye</td>\n",
       "      <td>M</td>\n",
       "      <td>34.0</td>\n",
       "      <td>NaN</td>\n",
       "      <td>NaN</td>\n",
       "      <td>Denmark/Sweden</td>\n",
       "      <td>DEN</td>\n",
       "      <td>1900 Summer</td>\n",
       "      <td>1900</td>\n",
       "      <td>Summer</td>\n",
       "      <td>Paris</td>\n",
       "      <td>Tug-Of-War</td>\n",
       "      <td>Tug-Of-War Men's Tug-Of-War</td>\n",
       "      <td>Gold</td>\n",
       "    </tr>\n",
       "    <tr>\n",
       "      <th>4</th>\n",
       "      <td>5</td>\n",
       "      <td>Christine Jacoba Aaftink</td>\n",
       "      <td>F</td>\n",
       "      <td>21.0</td>\n",
       "      <td>185.0</td>\n",
       "      <td>82.0</td>\n",
       "      <td>Netherlands</td>\n",
       "      <td>NED</td>\n",
       "      <td>1988 Winter</td>\n",
       "      <td>1988</td>\n",
       "      <td>Winter</td>\n",
       "      <td>Calgary</td>\n",
       "      <td>Speed Skating</td>\n",
       "      <td>Speed Skating Women's 500 metres</td>\n",
       "      <td>NaN</td>\n",
       "    </tr>\n",
       "  </tbody>\n",
       "</table>\n",
       "</div>"
      ],
      "text/plain": [
       "   ID                      Name Sex   Age  Height  Weight            Team  \\\n",
       "0   1                 A Dijiang   M  24.0   180.0    80.0           China   \n",
       "1   2                  A Lamusi   M  23.0   170.0    60.0           China   \n",
       "2   3       Gunnar Nielsen Aaby   M  24.0     NaN     NaN         Denmark   \n",
       "3   4      Edgar Lindenau Aabye   M  34.0     NaN     NaN  Denmark/Sweden   \n",
       "4   5  Christine Jacoba Aaftink   F  21.0   185.0    82.0     Netherlands   \n",
       "\n",
       "   NOC        Games  Year  Season       City          Sport  \\\n",
       "0  CHN  1992 Summer  1992  Summer  Barcelona     Basketball   \n",
       "1  CHN  2012 Summer  2012  Summer     London           Judo   \n",
       "2  DEN  1920 Summer  1920  Summer  Antwerpen       Football   \n",
       "3  DEN  1900 Summer  1900  Summer      Paris     Tug-Of-War   \n",
       "4  NED  1988 Winter  1988  Winter    Calgary  Speed Skating   \n",
       "\n",
       "                              Event Medal  \n",
       "0       Basketball Men's Basketball   NaN  \n",
       "1      Judo Men's Extra-Lightweight   NaN  \n",
       "2           Football Men's Football   NaN  \n",
       "3       Tug-Of-War Men's Tug-Of-War  Gold  \n",
       "4  Speed Skating Women's 500 metres   NaN  "
      ]
     },
     "execution_count": 266,
     "metadata": {},
     "output_type": "execute_result"
    }
   ],
   "source": [
    "athlete.head()"
   ]
  },
  {
   "cell_type": "code",
   "execution_count": 267,
   "metadata": {},
   "outputs": [
    {
     "data": {
      "text/html": [
       "<div>\n",
       "<style scoped>\n",
       "    .dataframe tbody tr th:only-of-type {\n",
       "        vertical-align: middle;\n",
       "    }\n",
       "\n",
       "    .dataframe tbody tr th {\n",
       "        vertical-align: top;\n",
       "    }\n",
       "\n",
       "    .dataframe thead th {\n",
       "        text-align: right;\n",
       "    }\n",
       "</style>\n",
       "<table border=\"1\" class=\"dataframe\">\n",
       "  <thead>\n",
       "    <tr style=\"text-align: right;\">\n",
       "      <th></th>\n",
       "      <th>NOC</th>\n",
       "      <th>region</th>\n",
       "      <th>notes</th>\n",
       "    </tr>\n",
       "  </thead>\n",
       "  <tbody>\n",
       "    <tr>\n",
       "      <th>0</th>\n",
       "      <td>AFG</td>\n",
       "      <td>Afghanistan</td>\n",
       "      <td>NaN</td>\n",
       "    </tr>\n",
       "    <tr>\n",
       "      <th>1</th>\n",
       "      <td>AHO</td>\n",
       "      <td>Curacao</td>\n",
       "      <td>Netherlands Antilles</td>\n",
       "    </tr>\n",
       "    <tr>\n",
       "      <th>2</th>\n",
       "      <td>ALB</td>\n",
       "      <td>Albania</td>\n",
       "      <td>NaN</td>\n",
       "    </tr>\n",
       "    <tr>\n",
       "      <th>3</th>\n",
       "      <td>ALG</td>\n",
       "      <td>Algeria</td>\n",
       "      <td>NaN</td>\n",
       "    </tr>\n",
       "    <tr>\n",
       "      <th>4</th>\n",
       "      <td>AND</td>\n",
       "      <td>Andorra</td>\n",
       "      <td>NaN</td>\n",
       "    </tr>\n",
       "  </tbody>\n",
       "</table>\n",
       "</div>"
      ],
      "text/plain": [
       "   NOC       region                 notes\n",
       "0  AFG  Afghanistan                   NaN\n",
       "1  AHO      Curacao  Netherlands Antilles\n",
       "2  ALB      Albania                   NaN\n",
       "3  ALG      Algeria                   NaN\n",
       "4  AND      Andorra                   NaN"
      ]
     },
     "execution_count": 267,
     "metadata": {},
     "output_type": "execute_result"
    }
   ],
   "source": [
    "noc.head()"
   ]
  },
  {
   "cell_type": "markdown",
   "metadata": {},
   "source": [
    "* we first want to deal with missing data"
   ]
  },
  {
   "cell_type": "markdown",
   "metadata": {},
   "source": [
    "# Filter on athletes with incomplete data\n",
    "\n",
    "Since we are trying to predict sport based on body measurements and NOC, I want to make sure the following fields have no missing data : Sex, Age, Height, Weight, NOC, Year, Season, Sport. \n"
   ]
  },
  {
   "cell_type": "code",
   "execution_count": 268,
   "metadata": {},
   "outputs": [],
   "source": [
    "athlete_filt = athlete[(athlete['Sex'].notnull()) & (athlete['Age'].notnull()) & (athlete['Height'].notnull())  & (athlete['Weight'].notnull()) & (athlete['NOC'].notnull()) & (athlete['Year'].notnull()) & (athlete['Season'].notnull()) & (athlete['Sport'].notnull())]\n"
   ]
  },
  {
   "cell_type": "markdown",
   "metadata": {},
   "source": [
    "At least for the initial analysis, I want to try something simpler. I'll first only look at the summer olympics, and only for the last 50 years (1968). Let's first filter the data, and see how the distribution of athletes lines up. "
   ]
  },
  {
   "cell_type": "code",
   "execution_count": 269,
   "metadata": {},
   "outputs": [
    {
     "name": "stdout",
     "output_type": "stream",
     "text": [
      "(142506, 15)\n"
     ]
    }
   ],
   "source": [
    "AthletesFiltered_Summer = athlete_filt.loc[(athlete_filt['Season'].isin([\"Summer\"])) & (athlete_filt['Year'] >= 1968)]\n",
    "print(AthletesFiltered_Summer.shape) "
   ]
  },
  {
   "cell_type": "code",
   "execution_count": 170,
   "metadata": {},
   "outputs": [
    {
     "data": {
      "text/plain": [
       "(271116, 15)"
      ]
     },
     "execution_count": 170,
     "metadata": {},
     "output_type": "execute_result"
    }
   ],
   "source": [
    "athlete.shape"
   ]
  },
  {
   "cell_type": "code",
   "execution_count": 271,
   "metadata": {},
   "outputs": [
    {
     "data": {
      "image/png": "[encoded data removed]",
      "text/plain": [
       "<Figure size 2160x432 with 1 Axes>"
      ]
     },
     "metadata": {
      "needs_background": "light"
     },
     "output_type": "display_data"
    }
   ],
   "source": [
    "# number of athletes per sport\n",
    "\n",
    "athletes_ps = AthletesFiltered_Summer[[\"Sport\"]]\n",
    "athletes_ps = athletes_ps[\"Sport\"].value_counts()\n",
    "\n",
    "\n",
    "#https://pandas.pydata.org/pandas-docs/stable/reference/api/pandas.Series.to_frame.html\n",
    "athletes_per_sport = pd.DataFrame({\"Sport\":athletes_ps.index, \"Athletes\":athletes_ps.values})\n",
    "\n",
    "fig, ax = plt.subplots(figsize=(30,6))\n",
    "a = sns.barplot(x='Sport', y='Athletes', data=athletes_per_sport, ax=ax, color=\"#2196F3\")\n",
    "a.set_xticklabels(labels=athletes_per_sport['Sport'],rotation=90)\n",
    "\n",
    "for p in ax.patches:\n",
    "    ax.text(p.get_x() + p.get_width()/2., p.get_height(), '%d' % int(p.get_height()), \n",
    "            fontsize=12, color='black', ha='center', va='bottom')\n",
    "\n",
    "ax.set_xlabel('Sport', size=14, color=\"#0D47A1\")\n",
    "ax.set_ylabel('Number of Athletes', size=14, color=\"#0D47A1\")\n",
    "ax.set_title('Athletes per Sport', size=18, color=\"#0D47A1\")\n",
    "plt.show()\n",
    "\n",
    "\n",
    "\n"
   ]
  },
  {
   "cell_type": "markdown",
   "metadata": {},
   "source": [
    "# Look a little more into the Athletics sport\n",
    "\n",
    "As we see in the graph that the sport is athletics, which is a combination of many sports that are part of the track and field. \n",
    "\n",
    "https://tokyo2020.org/en/games/sport/olympic/athletics/\n",
    "Event Programme\n",
    "100m (Men/Women)\n",
    "200m (Men/Women)\n",
    "400m (Men/Women)\n",
    "800m (Men/Women)\n",
    "1,500m (Men/Women)\n",
    "5,000m (Men/Women)\n",
    "10,000m (Men/Women)\n",
    "110m Hurdles (Men)\n",
    "100m Hurdles (Women)\n",
    "400m Hurdles (Men/Women)\n",
    "3,000m Steeplechase (Men/Women)\n",
    "4 x 100m Relay (Men/Women)\n",
    "4 x 400m Relay (Men/Women)\n",
    "4 x 400m Mixed Relay\n",
    "\n",
    "One concern that I have is that sprinters (100m and 200m) have very different body-types than mid and long-distance runners (10,000m) and this might make the categorizatin difficult. \n",
    "\n",
    "![SprintervsMarathoner](MarathonerSprinter.jpg)\n",
    "\n",
    "\n"
   ]
  },
  {
   "cell_type": "markdown",
   "metadata": {},
   "source": [
    "To simplify this initial analysis, we will only consider the top-12 most popular sports in terms of number of athletes (excluding athletics).\n",
    "\n",
    "![NewData](AthletesToAnalyze.png)\n"
   ]
  },
  {
   "cell_type": "code",
   "execution_count": 272,
   "metadata": {},
   "outputs": [],
   "source": [
    "# now let's do the actual filtering. \n",
    "ToFilter = ['Cycling', 'Rowing']\n",
    "\n",
    "AthletesFiltered_Summer_Sports = AthletesFiltered_Summer.loc[AthletesFiltered_Summer['Sport'].isin(ToFilter)]\n"
   ]
  },
  {
   "cell_type": "code",
   "execution_count": 273,
   "metadata": {},
   "outputs": [
    {
     "data": {
      "text/plain": [
       "(13525, 15)"
      ]
     },
     "execution_count": 273,
     "metadata": {},
     "output_type": "execute_result"
    }
   ],
   "source": [
    "AthletesFiltered_Summer_Sports.shape"
   ]
  },
  {
   "cell_type": "code",
   "execution_count": 274,
   "metadata": {},
   "outputs": [
    {
     "data": {
      "text/html": [
       "<div>\n",
       "<style scoped>\n",
       "    .dataframe tbody tr th:only-of-type {\n",
       "        vertical-align: middle;\n",
       "    }\n",
       "\n",
       "    .dataframe tbody tr th {\n",
       "        vertical-align: top;\n",
       "    }\n",
       "\n",
       "    .dataframe thead th {\n",
       "        text-align: right;\n",
       "    }\n",
       "</style>\n",
       "<table border=\"1\" class=\"dataframe\">\n",
       "  <thead>\n",
       "    <tr style=\"text-align: right;\">\n",
       "      <th></th>\n",
       "      <th>ID</th>\n",
       "      <th>Name</th>\n",
       "      <th>Sex</th>\n",
       "      <th>Age</th>\n",
       "      <th>Height</th>\n",
       "      <th>Weight</th>\n",
       "      <th>Team</th>\n",
       "      <th>NOC</th>\n",
       "      <th>Games</th>\n",
       "      <th>Year</th>\n",
       "      <th>Season</th>\n",
       "      <th>City</th>\n",
       "      <th>Sport</th>\n",
       "      <th>Event</th>\n",
       "      <th>Medal</th>\n",
       "    </tr>\n",
       "  </thead>\n",
       "  <tbody>\n",
       "    <tr>\n",
       "      <th>92</th>\n",
       "      <td>30</td>\n",
       "      <td>Pepijn Aardewijn</td>\n",
       "      <td>M</td>\n",
       "      <td>26.0</td>\n",
       "      <td>189.0</td>\n",
       "      <td>72.0</td>\n",
       "      <td>Netherlands</td>\n",
       "      <td>NED</td>\n",
       "      <td>1996 Summer</td>\n",
       "      <td>1996</td>\n",
       "      <td>Summer</td>\n",
       "      <td>Atlanta</td>\n",
       "      <td>Rowing</td>\n",
       "      <td>Rowing Men's Lightweight Double Sculls</td>\n",
       "      <td>Silver</td>\n",
       "    </tr>\n",
       "    <tr>\n",
       "      <th>93</th>\n",
       "      <td>30</td>\n",
       "      <td>Pepijn Aardewijn</td>\n",
       "      <td>M</td>\n",
       "      <td>30.0</td>\n",
       "      <td>189.0</td>\n",
       "      <td>72.0</td>\n",
       "      <td>Netherlands</td>\n",
       "      <td>NED</td>\n",
       "      <td>2000 Summer</td>\n",
       "      <td>2000</td>\n",
       "      <td>Summer</td>\n",
       "      <td>Sydney</td>\n",
       "      <td>Rowing</td>\n",
       "      <td>Rowing Men's Lightweight Double Sculls</td>\n",
       "      <td>NaN</td>\n",
       "    </tr>\n",
       "    <tr>\n",
       "      <th>158</th>\n",
       "      <td>62</td>\n",
       "      <td>Giovanni Abagnale</td>\n",
       "      <td>M</td>\n",
       "      <td>21.0</td>\n",
       "      <td>198.0</td>\n",
       "      <td>90.0</td>\n",
       "      <td>Italy</td>\n",
       "      <td>ITA</td>\n",
       "      <td>2016 Summer</td>\n",
       "      <td>2016</td>\n",
       "      <td>Summer</td>\n",
       "      <td>Rio de Janeiro</td>\n",
       "      <td>Rowing</td>\n",
       "      <td>Rowing Men's Coxless Pairs</td>\n",
       "      <td>Bronze</td>\n",
       "    </tr>\n",
       "    <tr>\n",
       "      <th>176</th>\n",
       "      <td>74</td>\n",
       "      <td>Mara Laura Abalo</td>\n",
       "      <td>F</td>\n",
       "      <td>30.0</td>\n",
       "      <td>182.0</td>\n",
       "      <td>73.0</td>\n",
       "      <td>Argentina</td>\n",
       "      <td>ARG</td>\n",
       "      <td>2012 Summer</td>\n",
       "      <td>2012</td>\n",
       "      <td>Summer</td>\n",
       "      <td>London</td>\n",
       "      <td>Rowing</td>\n",
       "      <td>Rowing Women's Coxless Pairs</td>\n",
       "      <td>NaN</td>\n",
       "    </tr>\n",
       "    <tr>\n",
       "      <th>195</th>\n",
       "      <td>90</td>\n",
       "      <td>Tamila Rashidovna Abasova</td>\n",
       "      <td>F</td>\n",
       "      <td>21.0</td>\n",
       "      <td>163.0</td>\n",
       "      <td>60.0</td>\n",
       "      <td>Russia</td>\n",
       "      <td>RUS</td>\n",
       "      <td>2004 Summer</td>\n",
       "      <td>2004</td>\n",
       "      <td>Summer</td>\n",
       "      <td>Athina</td>\n",
       "      <td>Cycling</td>\n",
       "      <td>Cycling Women's Sprint</td>\n",
       "      <td>Silver</td>\n",
       "    </tr>\n",
       "  </tbody>\n",
       "</table>\n",
       "</div>"
      ],
      "text/plain": [
       "     ID                       Name Sex   Age  Height  Weight         Team  \\\n",
       "92   30           Pepijn Aardewijn   M  26.0   189.0    72.0  Netherlands   \n",
       "93   30           Pepijn Aardewijn   M  30.0   189.0    72.0  Netherlands   \n",
       "158  62          Giovanni Abagnale   M  21.0   198.0    90.0        Italy   \n",
       "176  74           Mara Laura Abalo   F  30.0   182.0    73.0    Argentina   \n",
       "195  90  Tamila Rashidovna Abasova   F  21.0   163.0    60.0       Russia   \n",
       "\n",
       "     NOC        Games  Year  Season            City    Sport  \\\n",
       "92   NED  1996 Summer  1996  Summer         Atlanta   Rowing   \n",
       "93   NED  2000 Summer  2000  Summer          Sydney   Rowing   \n",
       "158  ITA  2016 Summer  2016  Summer  Rio de Janeiro   Rowing   \n",
       "176  ARG  2012 Summer  2012  Summer          London   Rowing   \n",
       "195  RUS  2004 Summer  2004  Summer          Athina  Cycling   \n",
       "\n",
       "                                      Event   Medal  \n",
       "92   Rowing Men's Lightweight Double Sculls  Silver  \n",
       "93   Rowing Men's Lightweight Double Sculls     NaN  \n",
       "158              Rowing Men's Coxless Pairs  Bronze  \n",
       "176            Rowing Women's Coxless Pairs     NaN  \n",
       "195                  Cycling Women's Sprint  Silver  "
      ]
     },
     "execution_count": 274,
     "metadata": {},
     "output_type": "execute_result"
    }
   ],
   "source": [
    "AthletesFiltered_Summer_Sports.head()"
   ]
  },
  {
   "cell_type": "markdown",
   "metadata": {},
   "source": [
    "# Building TF Model\n",
    "\n",
    "In order to build. WE are going to need to build the categorial variables, an categorial "
   ]
  },
  {
   "cell_type": "code",
   "execution_count": 275,
   "metadata": {},
   "outputs": [],
   "source": [
    "from keras.models import Sequential\n",
    "from keras.layers import Dense\n",
    "from keras.wrappers.scikit_learn import KerasClassifier\n",
    "from keras.utils import np_utils\n",
    "from sklearn.model_selection import cross_val_score\n",
    "from sklearn.model_selection import KFold\n",
    "from sklearn.preprocessing import LabelEncoder\n",
    "from sklearn.pipeline import Pipeline"
   ]
  },
  {
   "cell_type": "code",
   "execution_count": 276,
   "metadata": {},
   "outputs": [
    {
     "data": {
      "text/html": [
       "<div>\n",
       "<style scoped>\n",
       "    .dataframe tbody tr th:only-of-type {\n",
       "        vertical-align: middle;\n",
       "    }\n",
       "\n",
       "    .dataframe tbody tr th {\n",
       "        vertical-align: top;\n",
       "    }\n",
       "\n",
       "    .dataframe thead th {\n",
       "        text-align: right;\n",
       "    }\n",
       "</style>\n",
       "<table border=\"1\" class=\"dataframe\">\n",
       "  <thead>\n",
       "    <tr style=\"text-align: right;\">\n",
       "      <th></th>\n",
       "      <th>ID</th>\n",
       "      <th>Name</th>\n",
       "      <th>Sex</th>\n",
       "      <th>Age</th>\n",
       "      <th>Height</th>\n",
       "      <th>Weight</th>\n",
       "      <th>Team</th>\n",
       "      <th>NOC</th>\n",
       "      <th>Games</th>\n",
       "      <th>Year</th>\n",
       "      <th>Season</th>\n",
       "      <th>City</th>\n",
       "      <th>Sport</th>\n",
       "      <th>Event</th>\n",
       "      <th>Medal</th>\n",
       "    </tr>\n",
       "  </thead>\n",
       "  <tbody>\n",
       "    <tr>\n",
       "      <th>92</th>\n",
       "      <td>30</td>\n",
       "      <td>Pepijn Aardewijn</td>\n",
       "      <td>M</td>\n",
       "      <td>26.0</td>\n",
       "      <td>189.0</td>\n",
       "      <td>72.0</td>\n",
       "      <td>Netherlands</td>\n",
       "      <td>NED</td>\n",
       "      <td>1996 Summer</td>\n",
       "      <td>1996</td>\n",
       "      <td>Summer</td>\n",
       "      <td>Atlanta</td>\n",
       "      <td>Rowing</td>\n",
       "      <td>Rowing Men's Lightweight Double Sculls</td>\n",
       "      <td>Silver</td>\n",
       "    </tr>\n",
       "    <tr>\n",
       "      <th>93</th>\n",
       "      <td>30</td>\n",
       "      <td>Pepijn Aardewijn</td>\n",
       "      <td>M</td>\n",
       "      <td>30.0</td>\n",
       "      <td>189.0</td>\n",
       "      <td>72.0</td>\n",
       "      <td>Netherlands</td>\n",
       "      <td>NED</td>\n",
       "      <td>2000 Summer</td>\n",
       "      <td>2000</td>\n",
       "      <td>Summer</td>\n",
       "      <td>Sydney</td>\n",
       "      <td>Rowing</td>\n",
       "      <td>Rowing Men's Lightweight Double Sculls</td>\n",
       "      <td>NaN</td>\n",
       "    </tr>\n",
       "    <tr>\n",
       "      <th>158</th>\n",
       "      <td>62</td>\n",
       "      <td>Giovanni Abagnale</td>\n",
       "      <td>M</td>\n",
       "      <td>21.0</td>\n",
       "      <td>198.0</td>\n",
       "      <td>90.0</td>\n",
       "      <td>Italy</td>\n",
       "      <td>ITA</td>\n",
       "      <td>2016 Summer</td>\n",
       "      <td>2016</td>\n",
       "      <td>Summer</td>\n",
       "      <td>Rio de Janeiro</td>\n",
       "      <td>Rowing</td>\n",
       "      <td>Rowing Men's Coxless Pairs</td>\n",
       "      <td>Bronze</td>\n",
       "    </tr>\n",
       "    <tr>\n",
       "      <th>176</th>\n",
       "      <td>74</td>\n",
       "      <td>Mara Laura Abalo</td>\n",
       "      <td>F</td>\n",
       "      <td>30.0</td>\n",
       "      <td>182.0</td>\n",
       "      <td>73.0</td>\n",
       "      <td>Argentina</td>\n",
       "      <td>ARG</td>\n",
       "      <td>2012 Summer</td>\n",
       "      <td>2012</td>\n",
       "      <td>Summer</td>\n",
       "      <td>London</td>\n",
       "      <td>Rowing</td>\n",
       "      <td>Rowing Women's Coxless Pairs</td>\n",
       "      <td>NaN</td>\n",
       "    </tr>\n",
       "    <tr>\n",
       "      <th>195</th>\n",
       "      <td>90</td>\n",
       "      <td>Tamila Rashidovna Abasova</td>\n",
       "      <td>F</td>\n",
       "      <td>21.0</td>\n",
       "      <td>163.0</td>\n",
       "      <td>60.0</td>\n",
       "      <td>Russia</td>\n",
       "      <td>RUS</td>\n",
       "      <td>2004 Summer</td>\n",
       "      <td>2004</td>\n",
       "      <td>Summer</td>\n",
       "      <td>Athina</td>\n",
       "      <td>Cycling</td>\n",
       "      <td>Cycling Women's Sprint</td>\n",
       "      <td>Silver</td>\n",
       "    </tr>\n",
       "  </tbody>\n",
       "</table>\n",
       "</div>"
      ],
      "text/plain": [
       "     ID                       Name Sex   Age  Height  Weight         Team  \\\n",
       "92   30           Pepijn Aardewijn   M  26.0   189.0    72.0  Netherlands   \n",
       "93   30           Pepijn Aardewijn   M  30.0   189.0    72.0  Netherlands   \n",
       "158  62          Giovanni Abagnale   M  21.0   198.0    90.0        Italy   \n",
       "176  74           Mara Laura Abalo   F  30.0   182.0    73.0    Argentina   \n",
       "195  90  Tamila Rashidovna Abasova   F  21.0   163.0    60.0       Russia   \n",
       "\n",
       "     NOC        Games  Year  Season            City    Sport  \\\n",
       "92   NED  1996 Summer  1996  Summer         Atlanta   Rowing   \n",
       "93   NED  2000 Summer  2000  Summer          Sydney   Rowing   \n",
       "158  ITA  2016 Summer  2016  Summer  Rio de Janeiro   Rowing   \n",
       "176  ARG  2012 Summer  2012  Summer          London   Rowing   \n",
       "195  RUS  2004 Summer  2004  Summer          Athina  Cycling   \n",
       "\n",
       "                                      Event   Medal  \n",
       "92   Rowing Men's Lightweight Double Sculls  Silver  \n",
       "93   Rowing Men's Lightweight Double Sculls     NaN  \n",
       "158              Rowing Men's Coxless Pairs  Bronze  \n",
       "176            Rowing Women's Coxless Pairs     NaN  \n",
       "195                  Cycling Women's Sprint  Silver  "
      ]
     },
     "execution_count": 276,
     "metadata": {},
     "output_type": "execute_result"
    }
   ],
   "source": [
    "AthletesFiltered_Summer_Sports.head()\n"
   ]
  },
  {
   "cell_type": "markdown",
   "metadata": {},
   "source": [
    "Let’s make analysis simpler by encoding string variables. Country has string labels such as “France, Spain, Germany” while Gender has “Male, Female”"
   ]
  },
  {
   "cell_type": "code",
   "execution_count": 277,
   "metadata": {},
   "outputs": [
    {
     "data": {
      "text/html": [
       "<div>\n",
       "<style scoped>\n",
       "    .dataframe tbody tr th:only-of-type {\n",
       "        vertical-align: middle;\n",
       "    }\n",
       "\n",
       "    .dataframe tbody tr th {\n",
       "        vertical-align: top;\n",
       "    }\n",
       "\n",
       "    .dataframe thead th {\n",
       "        text-align: right;\n",
       "    }\n",
       "</style>\n",
       "<table border=\"1\" class=\"dataframe\">\n",
       "  <thead>\n",
       "    <tr style=\"text-align: right;\">\n",
       "      <th></th>\n",
       "      <th>Sex</th>\n",
       "      <th>Age</th>\n",
       "      <th>Height</th>\n",
       "      <th>Weight</th>\n",
       "    </tr>\n",
       "  </thead>\n",
       "  <tbody>\n",
       "    <tr>\n",
       "      <th>92</th>\n",
       "      <td>M</td>\n",
       "      <td>26.0</td>\n",
       "      <td>189.0</td>\n",
       "      <td>72.0</td>\n",
       "    </tr>\n",
       "    <tr>\n",
       "      <th>93</th>\n",
       "      <td>M</td>\n",
       "      <td>30.0</td>\n",
       "      <td>189.0</td>\n",
       "      <td>72.0</td>\n",
       "    </tr>\n",
       "    <tr>\n",
       "      <th>158</th>\n",
       "      <td>M</td>\n",
       "      <td>21.0</td>\n",
       "      <td>198.0</td>\n",
       "      <td>90.0</td>\n",
       "    </tr>\n",
       "    <tr>\n",
       "      <th>176</th>\n",
       "      <td>F</td>\n",
       "      <td>30.0</td>\n",
       "      <td>182.0</td>\n",
       "      <td>73.0</td>\n",
       "    </tr>\n",
       "    <tr>\n",
       "      <th>195</th>\n",
       "      <td>F</td>\n",
       "      <td>21.0</td>\n",
       "      <td>163.0</td>\n",
       "      <td>60.0</td>\n",
       "    </tr>\n",
       "  </tbody>\n",
       "</table>\n",
       "</div>"
      ],
      "text/plain": [
       "    Sex   Age  Height  Weight\n",
       "92    M  26.0   189.0    72.0\n",
       "93    M  30.0   189.0    72.0\n",
       "158   M  21.0   198.0    90.0\n",
       "176   F  30.0   182.0    73.0\n",
       "195   F  21.0   163.0    60.0"
      ]
     },
     "execution_count": 277,
     "metadata": {},
     "output_type": "execute_result"
    }
   ],
   "source": [
    "#DataToEncode = pd.DataFrame({\"Sex\": AthletesFiltered_Summer_Sports['Sex'], \"Age\": AthletesFiltered_Summer_Sports['Age'], \"Height\": AthletesFiltered_Summer_Sports['Height'],  \"Weight\": AthletesFiltered_Summer_Sports['Weight'],  \"NOC\": AthletesFiltered_Summer_Sports['NOC']})\n",
    "DataToEncode = pd.DataFrame({\"Sex\": AthletesFiltered_Summer_Sports['Sex'], \"Age\": AthletesFiltered_Summer_Sports['Age'], \"Height\": AthletesFiltered_Summer_Sports['Height'],  \"Weight\": AthletesFiltered_Summer_Sports['Weight']})\n",
    "\n",
    "DataToEncode.head()"
   ]
  },
  {
   "cell_type": "code",
   "execution_count": 278,
   "metadata": {},
   "outputs": [],
   "source": [
    "# making the training data into a numeric array\n",
    "from sklearn.preprocessing import LabelEncoder, OneHotEncoder\n",
    "my_labelencoder = LabelEncoder()\n",
    "DataToEncode['Sex'] = my_labelencoder.fit_transform(DataToEncode[\"Sex\"])\n",
    "#my_labelencoder2 = LabelEncoder()\n",
    "#DataToEncode['NOC'] = my_labelencoder2.fit_transform(DataToEncode[\"NOC\"])\n",
    "InputAthleteData = DataToEncode.to_numpy()"
   ]
  },
  {
   "cell_type": "code",
   "execution_count": 321,
   "metadata": {},
   "outputs": [],
   "source": [
    "# encoding the output variable\n",
    "\n",
    "# why is this needed?\n",
    "# Label encoding has introduced new problem in our data... Sports like Sailing and Wrestling have been given numbers, but one is not \"higher\" than another. These are now converted into dummy varaible\n",
    "# resource : https://medium.com/@pushkarmandot/build-your-first-deep-learning-neural-network-model-using-keras-in-python-a90b5864116d\n",
    "\n",
    "Y = AthletesFiltered_Summer_Sports[\"Sport\"].values.tolist()\n",
    "# lab\n",
    "encoder = LabelEncoder()\n",
    "dummy_y = encoder.fit_transform(Y)\n"
   ]
  },
  {
   "cell_type": "markdown",
   "metadata": {},
   "source": [
    "## Splitting Training and Testing Data\n",
    "\n",
    "We will make use of ScikitLearn’s ‘train_test_split’ function to divide our data (80:20)"
   ]
  },
  {
   "cell_type": "code",
   "execution_count": 322,
   "metadata": {},
   "outputs": [],
   "source": [
    "from sklearn.model_selection import train_test_split\n",
    "X_train, X_test, y_train, y_test = train_test_split(InputAthleteData, dummy_y, test_size = 0.2)"
   ]
  },
  {
   "cell_type": "markdown",
   "metadata": {},
   "source": [
    "## Scaling Input Data\n",
    "\n",
    "https://scikit-learn.org/stable/modules/generated/sklearn.preprocessing.StandardScaler.html\n",
    "\n",
    "Standardize features by removing the mean and scaling to unit variance\n",
    "\n"
   ]
  },
  {
   "cell_type": "code",
   "execution_count": 323,
   "metadata": {},
   "outputs": [],
   "source": [
    "# Feature Scaling\n",
    "from sklearn.preprocessing import StandardScaler\n",
    "sc = StandardScaler()\n",
    "X_train = sc.fit_transform(X_train)\n",
    "X_test = sc.transform(X_test)"
   ]
  },
  {
   "cell_type": "markdown",
   "metadata": {},
   "source": [
    "## Building Neural Model"
   ]
  },
  {
   "cell_type": "code",
   "execution_count": 324,
   "metadata": {},
   "outputs": [],
   "source": [
    "# Importing the Keras libraries and packages\n",
    "import keras\n",
    "from keras.models import Sequential\n",
    "from keras.layers import Dense"
   ]
  },
  {
   "cell_type": "code",
   "execution_count": 325,
   "metadata": {},
   "outputs": [],
   "source": [
    "# model itself\n",
    "classifier = Sequential()\n",
    "# Adding the input layer and the first hidden layer\n",
    "classifier.add(Dense(units = 6, kernel_initializer = 'uniform', activation = 'relu', input_dim = 4))\n",
    "# Adding the second hidden layer\n",
    "classifier.add(Dense(units = 6, kernel_initializer = 'uniform', activation = 'relu'))\n",
    "# Adding the output layer\n",
    "classifier.add(Dense(units = 1, kernel_initializer = 'uniform', activation = 'sigmoid'))"
   ]
  },
  {
   "cell_type": "code",
   "execution_count": 326,
   "metadata": {},
   "outputs": [],
   "source": [
    "# Compiling Neural Network\n",
    "classifier.compile(optimizer = 'adam', loss = 'binary_crossentropy', metrics = ['accuracy'])"
   ]
  },
  {
   "cell_type": "code",
   "execution_count": 327,
   "metadata": {},
   "outputs": [
    {
     "data": {
      "text/plain": [
       "array([0, 0, 1, ..., 1, 1, 1])"
      ]
     },
     "execution_count": 327,
     "metadata": {},
     "output_type": "execute_result"
    }
   ],
   "source": [
    "y_train"
   ]
  },
  {
   "cell_type": "code",
   "execution_count": 328,
   "metadata": {},
   "outputs": [
    {
     "name": "stderr",
     "output_type": "stream",
     "text": [
      "/Users/willshin/anaconda3/anaconda3/lib/python3.7/site-packages/ipykernel_launcher.py:2: UserWarning: The `nb_epoch` argument in `fit` has been renamed `epochs`.\n",
      "  \n"
     ]
    },
    {
     "name": "stdout",
     "output_type": "stream",
     "text": [
      "Epoch 1/100\n",
      "10820/10820 [==============================] - 1s 77us/step - loss: 0.5073 - accuracy: 0.7795\n",
      "Epoch 2/100\n",
      "10820/10820 [==============================] - 1s 65us/step - loss: 0.4521 - accuracy: 0.8041\n",
      "Epoch 3/100\n",
      "10820/10820 [==============================] - 1s 64us/step - loss: 0.4488 - accuracy: 0.8036\n",
      "Epoch 4/100\n",
      "10820/10820 [==============================] - 1s 65us/step - loss: 0.4465 - accuracy: 0.8043\n",
      "Epoch 5/100\n",
      "10820/10820 [==============================] - 1s 65us/step - loss: 0.4446 - accuracy: 0.8038\n",
      "Epoch 6/100\n",
      "10820/10820 [==============================] - 1s 64us/step - loss: 0.4427 - accuracy: 0.8033\n",
      "Epoch 7/100\n",
      "10820/10820 [==============================] - 1s 64us/step - loss: 0.4404 - accuracy: 0.8017\n",
      "Epoch 8/100\n",
      "10820/10820 [==============================] - 1s 65us/step - loss: 0.4353 - accuracy: 0.8010\n",
      "Epoch 9/100\n",
      "10820/10820 [==============================] - 1s 65us/step - loss: 0.4310 - accuracy: 0.8017\n",
      "Epoch 10/100\n",
      "10820/10820 [==============================] - 1s 68us/step - loss: 0.4276 - accuracy: 0.8008\n",
      "Epoch 11/100\n",
      "10820/10820 [==============================] - 1s 66us/step - loss: 0.4248 - accuracy: 0.8009\n",
      "Epoch 12/100\n",
      "10820/10820 [==============================] - 1s 65us/step - loss: 0.4219 - accuracy: 0.8012\n",
      "Epoch 13/100\n",
      "10820/10820 [==============================] - 1s 64us/step - loss: 0.4194 - accuracy: 0.8030\n",
      "Epoch 14/100\n",
      "10820/10820 [==============================] - 1s 65us/step - loss: 0.4178 - accuracy: 0.8028\n",
      "Epoch 15/100\n",
      "10820/10820 [==============================] - 1s 65us/step - loss: 0.4153 - accuracy: 0.8041\n",
      "Epoch 16/100\n",
      "10820/10820 [==============================] - 1s 65us/step - loss: 0.4143 - accuracy: 0.8111\n",
      "Epoch 17/100\n",
      "10820/10820 [==============================] - 1s 66us/step - loss: 0.4126 - accuracy: 0.8137\n",
      "Epoch 18/100\n",
      "10820/10820 [==============================] - 1s 68us/step - loss: 0.4125 - accuracy: 0.8172\n",
      "Epoch 19/100\n",
      "10820/10820 [==============================] - 1s 67us/step - loss: 0.4108 - accuracy: 0.8177\n",
      "Epoch 20/100\n",
      "10820/10820 [==============================] - 1s 76us/step - loss: 0.4094 - accuracy: 0.8184\n",
      "Epoch 21/100\n",
      "10820/10820 [==============================] - 1s 76us/step - loss: 0.4086 - accuracy: 0.8183\n",
      "Epoch 22/100\n",
      "10820/10820 [==============================] - 1s 67us/step - loss: 0.4078 - accuracy: 0.8199\n",
      "Epoch 23/100\n",
      "10820/10820 [==============================] - 1s 65us/step - loss: 0.4069 - accuracy: 0.8184\n",
      "Epoch 24/100\n",
      "10820/10820 [==============================] - 1s 65us/step - loss: 0.4064 - accuracy: 0.8185\n",
      "Epoch 25/100\n",
      "10820/10820 [==============================] - 1s 65us/step - loss: 0.4064 - accuracy: 0.8189\n",
      "Epoch 26/100\n",
      "10820/10820 [==============================] - 1s 89us/step - loss: 0.4051 - accuracy: 0.8191 0s - loss: 0.4042 - accuracy: 0.82\n",
      "Epoch 27/100\n",
      "10820/10820 [==============================] - 1s 82us/step - loss: 0.4046 - accuracy: 0.8195\n",
      "Epoch 28/100\n",
      "10820/10820 [==============================] - 1s 98us/step - loss: 0.4041 - accuracy: 0.8210\n",
      "Epoch 29/100\n",
      "10820/10820 [==============================] - 1s 77us/step - loss: 0.4040 - accuracy: 0.8218\n",
      "Epoch 30/100\n",
      "10820/10820 [==============================] - 1s 66us/step - loss: 0.4029 - accuracy: 0.8195\n",
      "Epoch 31/100\n",
      "10820/10820 [==============================] - 1s 66us/step - loss: 0.4017 - accuracy: 0.8202\n",
      "Epoch 32/100\n",
      "10820/10820 [==============================] - 1s 66us/step - loss: 0.4029 - accuracy: 0.8228\n",
      "Epoch 33/100\n",
      "10820/10820 [==============================] - 1s 66us/step - loss: 0.4030 - accuracy: 0.8219\n",
      "Epoch 34/100\n",
      "10820/10820 [==============================] - 1s 66us/step - loss: 0.4030 - accuracy: 0.8215\n",
      "Epoch 35/100\n",
      "10820/10820 [==============================] - 1s 65us/step - loss: 0.4020 - accuracy: 0.8238\n",
      "Epoch 36/100\n",
      "10820/10820 [==============================] - 1s 64us/step - loss: 0.4017 - accuracy: 0.8220\n",
      "Epoch 37/100\n",
      "10820/10820 [==============================] - 1s 65us/step - loss: 0.4024 - accuracy: 0.8208\n",
      "Epoch 38/100\n",
      "10820/10820 [==============================] - 1s 66us/step - loss: 0.4026 - accuracy: 0.8219\n",
      "Epoch 39/100\n",
      "10820/10820 [==============================] - 1s 66us/step - loss: 0.4017 - accuracy: 0.8234\n",
      "Epoch 40/100\n",
      "10820/10820 [==============================] - 1s 66us/step - loss: 0.4011 - accuracy: 0.8230\n",
      "Epoch 41/100\n",
      "10820/10820 [==============================] - 1s 64us/step - loss: 0.4015 - accuracy: 0.8211\n",
      "Epoch 42/100\n",
      "10820/10820 [==============================] - 1s 64us/step - loss: 0.4010 - accuracy: 0.8227\n",
      "Epoch 43/100\n",
      "10820/10820 [==============================] - 1s 65us/step - loss: 0.4000 - accuracy: 0.8239\n",
      "Epoch 44/100\n",
      "10820/10820 [==============================] - 1s 64us/step - loss: 0.4008 - accuracy: 0.8234\n",
      "Epoch 45/100\n",
      "10820/10820 [==============================] - 1s 64us/step - loss: 0.4021 - accuracy: 0.8231\n",
      "Epoch 46/100\n",
      "10820/10820 [==============================] - 1s 64us/step - loss: 0.4011 - accuracy: 0.8239\n",
      "Epoch 47/100\n",
      "10820/10820 [==============================] - 1s 64us/step - loss: 0.4006 - accuracy: 0.8233\n",
      "Epoch 48/100\n",
      "10820/10820 [==============================] - 1s 64us/step - loss: 0.4007 - accuracy: 0.8214\n",
      "Epoch 49/100\n",
      "10820/10820 [==============================] - 1s 65us/step - loss: 0.4015 - accuracy: 0.8230\n",
      "Epoch 50/100\n",
      "10820/10820 [==============================] - 1s 64us/step - loss: 0.4005 - accuracy: 0.8240\n",
      "Epoch 51/100\n",
      "10820/10820 [==============================] - 1s 67us/step - loss: 0.4002 - accuracy: 0.8208\n",
      "Epoch 52/100\n",
      "10820/10820 [==============================] - 1s 64us/step - loss: 0.4000 - accuracy: 0.8222\n",
      "Epoch 53/100\n",
      "10820/10820 [==============================] - 1s 64us/step - loss: 0.4007 - accuracy: 0.8217\n",
      "Epoch 54/100\n",
      "10820/10820 [==============================] - 1s 64us/step - loss: 0.3995 - accuracy: 0.8233\n",
      "Epoch 55/100\n",
      "10820/10820 [==============================] - 1s 64us/step - loss: 0.4008 - accuracy: 0.8214\n",
      "Epoch 56/100\n",
      "10820/10820 [==============================] - 1s 65us/step - loss: 0.4006 - accuracy: 0.8234\n",
      "Epoch 57/100\n",
      "10820/10820 [==============================] - 1s 64us/step - loss: 0.3998 - accuracy: 0.8240\n",
      "Epoch 58/100\n",
      "10820/10820 [==============================] - 1s 64us/step - loss: 0.4004 - accuracy: 0.8224\n",
      "Epoch 59/100\n",
      "10820/10820 [==============================] - 1s 64us/step - loss: 0.4002 - accuracy: 0.8202\n",
      "Epoch 60/100\n",
      "10820/10820 [==============================] - 1s 64us/step - loss: 0.3999 - accuracy: 0.8226\n",
      "Epoch 61/100\n",
      "10820/10820 [==============================] - 1s 65us/step - loss: 0.4002 - accuracy: 0.8234\n",
      "Epoch 62/100\n",
      "10820/10820 [==============================] - 1s 67us/step - loss: 0.3995 - accuracy: 0.8233\n",
      "Epoch 63/100\n",
      "10820/10820 [==============================] - 1s 66us/step - loss: 0.3993 - accuracy: 0.8213\n",
      "Epoch 64/100\n",
      "10820/10820 [==============================] - 1s 69us/step - loss: 0.4009 - accuracy: 0.8231\n",
      "Epoch 65/100\n",
      "10820/10820 [==============================] - 1s 70us/step - loss: 0.3999 - accuracy: 0.8243\n",
      "Epoch 66/100\n",
      "10820/10820 [==============================] - 1s 67us/step - loss: 0.3989 - accuracy: 0.8221\n",
      "Epoch 67/100\n",
      "10820/10820 [==============================] - 1s 64us/step - loss: 0.3997 - accuracy: 0.8232\n",
      "Epoch 68/100\n",
      "10820/10820 [==============================] - 1s 64us/step - loss: 0.3995 - accuracy: 0.8224\n",
      "Epoch 69/100\n",
      "10820/10820 [==============================] - 1s 70us/step - loss: 0.3993 - accuracy: 0.8229\n",
      "Epoch 70/100\n",
      "10820/10820 [==============================] - 1s 74us/step - loss: 0.3988 - accuracy: 0.8233\n",
      "Epoch 71/100\n",
      "10820/10820 [==============================] - 1s 72us/step - loss: 0.3996 - accuracy: 0.8235\n",
      "Epoch 72/100\n",
      "10820/10820 [==============================] - 1s 74us/step - loss: 0.3985 - accuracy: 0.8226\n",
      "Epoch 73/100\n",
      "10820/10820 [==============================] - 1s 75us/step - loss: 0.3995 - accuracy: 0.8232\n",
      "Epoch 74/100\n",
      "10820/10820 [==============================] - 1s 82us/step - loss: 0.4006 - accuracy: 0.8250\n",
      "Epoch 75/100\n",
      "10820/10820 [==============================] - 1s 69us/step - loss: 0.3992 - accuracy: 0.8245\n",
      "Epoch 76/100\n",
      "10820/10820 [==============================] - 1s 65us/step - loss: 0.3986 - accuracy: 0.8202\n",
      "Epoch 77/100\n",
      "10820/10820 [==============================] - 1s 65us/step - loss: 0.3996 - accuracy: 0.8218\n",
      "Epoch 78/100\n",
      "10820/10820 [==============================] - 1s 66us/step - loss: 0.3991 - accuracy: 0.8223\n",
      "Epoch 79/100\n",
      "10820/10820 [==============================] - 1s 67us/step - loss: 0.3989 - accuracy: 0.8225\n",
      "Epoch 80/100\n",
      "10820/10820 [==============================] - 1s 68us/step - loss: 0.3992 - accuracy: 0.8215\n",
      "Epoch 81/100\n",
      "10820/10820 [==============================] - 1s 66us/step - loss: 0.4000 - accuracy: 0.8231\n",
      "Epoch 82/100\n",
      "10820/10820 [==============================] - 1s 65us/step - loss: 0.3996 - accuracy: 0.8211\n",
      "Epoch 83/100\n",
      "10820/10820 [==============================] - 1s 64us/step - loss: 0.3995 - accuracy: 0.8225\n",
      "Epoch 84/100\n",
      "10820/10820 [==============================] - 1s 67us/step - loss: 0.3992 - accuracy: 0.8233\n",
      "Epoch 85/100\n",
      "10820/10820 [==============================] - 1s 66us/step - loss: 0.3994 - accuracy: 0.8198\n",
      "Epoch 86/100\n",
      "10820/10820 [==============================] - 1s 65us/step - loss: 0.3991 - accuracy: 0.8234\n",
      "Epoch 87/100\n",
      "10820/10820 [==============================] - 1s 65us/step - loss: 0.3989 - accuracy: 0.8234\n",
      "Epoch 88/100\n",
      "10820/10820 [==============================] - 1s 64us/step - loss: 0.3992 - accuracy: 0.8221\n",
      "Epoch 89/100\n",
      "10820/10820 [==============================] - 1s 65us/step - loss: 0.3988 - accuracy: 0.8239\n",
      "Epoch 90/100\n",
      "10820/10820 [==============================] - 1s 67us/step - loss: 0.4000 - accuracy: 0.8220\n",
      "Epoch 91/100\n",
      "10820/10820 [==============================] - 1s 64us/step - loss: 0.3991 - accuracy: 0.8213\n",
      "Epoch 92/100\n",
      "10820/10820 [==============================] - 1s 65us/step - loss: 0.3988 - accuracy: 0.8220\n",
      "Epoch 93/100\n",
      "10820/10820 [==============================] - 1s 67us/step - loss: 0.3992 - accuracy: 0.8242\n",
      "Epoch 94/100\n",
      "10820/10820 [==============================] - 1s 65us/step - loss: 0.3987 - accuracy: 0.8230\n",
      "Epoch 95/100\n",
      "10820/10820 [==============================] - 1s 68us/step - loss: 0.3990 - accuracy: 0.8232\n",
      "Epoch 96/100\n",
      "10820/10820 [==============================] - 1s 65us/step - loss: 0.3990 - accuracy: 0.8218\n",
      "Epoch 97/100\n",
      "10820/10820 [==============================] - 1s 67us/step - loss: 0.3990 - accuracy: 0.8228\n",
      "Epoch 98/100\n",
      "10820/10820 [==============================] - 1s 64us/step - loss: 0.3997 - accuracy: 0.8221\n",
      "Epoch 99/100\n",
      "10820/10820 [==============================] - 1s 64us/step - loss: 0.3993 - accuracy: 0.8206\n",
      "Epoch 100/100\n",
      "10820/10820 [==============================] - 1s 65us/step - loss: 0.3991 - accuracy: 0.8220\n"
     ]
    },
    {
     "data": {
      "text/plain": [
       "<keras.callbacks.callbacks.History at 0x1a26f2ef28>"
      ]
     },
     "execution_count": 328,
     "metadata": {},
     "output_type": "execute_result"
    }
   ],
   "source": [
    "# Fitting our model \n",
    "classifier.fit(X_train, y_train, batch_size = 10, nb_epoch = 100)"
   ]
  },
  {
   "cell_type": "code",
   "execution_count": 331,
   "metadata": {},
   "outputs": [],
   "source": [
    "# Predicting the Test set results\n",
    "y_pred = classifier.predict(X_test)\n",
    "y_pred = (y_pred > 0.5)\n"
   ]
  },
  {
   "cell_type": "code",
   "execution_count": 332,
   "metadata": {},
   "outputs": [
    {
     "data": {
      "text/plain": [
       "array([[1136,  229],\n",
       "       [ 279, 1061]])"
      ]
     },
     "execution_count": 332,
     "metadata": {},
     "output_type": "execute_result"
    }
   ],
   "source": [
    "cm"
   ]
  },
  {
   "cell_type": "code",
   "execution_count": 333,
   "metadata": {},
   "outputs": [
    {
     "data": {
      "text/plain": [
       "0.8121996303142329"
      ]
     },
     "execution_count": 333,
     "metadata": {},
     "output_type": "execute_result"
    }
   ],
   "source": [
    "(1136+1061)/(1136 + 229 + 279 + 1061)"
   ]
  },
  {
   "cell_type": "code",
   "execution_count": null,
   "metadata": {},
   "outputs": [],
   "source": []
  }
 ],
 "metadata": {
  "kernelspec": {
   "display_name": "Python 3",
   "language": "python",
   "name": "python3"
  },
  "language_info": {
   "codemirror_mode": {
    "name": "ipython",
    "version": 3
   },
   "file_extension": ".py",
   "mimetype": "text/x-python",
   "name": "python",
   "nbconvert_exporter": "python",
   "pygments_lexer": "ipython3",
   "version": "3.7.3"
  }
 },
 "nbformat": 4,
 "nbformat_minor": 4
}
